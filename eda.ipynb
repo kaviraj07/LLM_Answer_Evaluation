{
 "cells": [
  {
   "cell_type": "markdown",
   "metadata": {},
   "source": [
    "## Exploratory Data Analysis"
   ]
  },
  {
   "cell_type": "markdown",
   "metadata": {},
   "source": [
    "### 0. Imports"
   ]
  },
  {
   "cell_type": "code",
   "execution_count": 5,
   "metadata": {},
   "outputs": [],
   "source": [
    "import json"
   ]
  },
  {
   "cell_type": "code",
   "execution_count": 6,
   "metadata": {},
   "outputs": [],
   "source": [
    "dataset_path = 'SQuAD/dev-v2.0.json'"
   ]
  },
  {
   "cell_type": "markdown",
   "metadata": {},
   "source": [
    "### 1. Dataset Structure"
   ]
  },
  {
   "cell_type": "code",
   "execution_count": 7,
   "metadata": {},
   "outputs": [
    {
     "name": "stdout",
     "output_type": "stream",
     "text": [
      "dict_keys(['version', 'data'])\n",
      "Length of 'data' key :35\n",
      "dict_keys(['title', 'paragraphs'])\n",
      "Keys of 'paragraphs' key : dict_keys(['qas', 'context'])\n",
      "Keys of 'qas' key : dict_keys(['question', 'id', 'answers', 'is_impossible'])\n",
      "Keys of 'answers' key : dict_keys(['text', 'answer_start'])\n",
      "Keys of 'answers' key : In what country is Normandy located?\n",
      "Keys of 'answers' key : France\n",
      "Keys of 'answers' key : 159\n"
     ]
    }
   ],
   "source": [
    "with open(dataset_path, 'r') as file:\n",
    "    dataset = json.load(file)\n",
    "\n",
    "    print(dataset.keys())\n",
    "    print(f\"Length of 'data' key :{len(dataset['data'])}\")\n",
    "    print(dataset['data'][0].keys())\n",
    "    print(f\"Keys of 'paragraphs' key : {dataset['data'][0]['paragraphs'][0].keys()}\")\n",
    "    print(f\"Keys of 'qas' key : {dataset['data'][0]['paragraphs'][0]['qas'][0].keys()}\")\n",
    "    print(f\"Keys of 'answers' key : {dataset['data'][0]['paragraphs'][0]['qas'][0]['answers'][0].keys()}\")\n",
    "    print(f\"Keys of 'answers' key : {dataset['data'][0]['paragraphs'][0]['qas'][0]['question']}\")\n",
    "    print(f\"Keys of 'answers' key : {dataset['data'][0]['paragraphs'][0]['qas'][0]['answers'][0]['text']}\")\n",
    "    print(f\"Keys of 'answers' key : {dataset['data'][0]['paragraphs'][0]['qas'][0]['answers'][0]['answer_start']}\")"
   ]
  },
  {
   "cell_type": "markdown",
   "metadata": {},
   "source": [
    "### 2. All Titles"
   ]
  },
  {
   "cell_type": "code",
   "execution_count": 39,
   "metadata": {},
   "outputs": [
    {
     "name": "stdout",
     "output_type": "stream",
     "text": [
      "Total number of titles : 35\n",
      "\n",
      "Titles :\n",
      "\n",
      "Normans\n",
      "Computational_complexity_theory\n",
      "Southern_California\n",
      "Sky_(United_Kingdom)\n",
      "Victoria_(Australia)\n",
      "Huguenot\n",
      "Steam_engine\n",
      "Oxygen\n",
      "1973_oil_crisis\n",
      "European_Union_law\n",
      "Amazon_rainforest\n",
      "Ctenophora\n",
      "Fresno,_California\n",
      "Packet_switching\n",
      "Black_Death\n",
      "Geology\n",
      "Pharmacy\n",
      "Civil_disobedience\n",
      "Construction\n",
      "Private_school\n",
      "Harvard_University\n",
      "Jacksonville,_Florida\n",
      "Economic_inequality\n",
      "University_of_Chicago\n",
      "Yuan_dynasty\n",
      "Immune_system\n",
      "Intergovernmental_Panel_on_Climate_Change\n",
      "Prime_number\n",
      "Rhine\n",
      "Scottish_Parliament\n",
      "Islamism\n",
      "Imperialism\n",
      "Warsaw\n",
      "French_and_Indian_War\n",
      "Force\n"
     ]
    }
   ],
   "source": [
    "# print and count all titles\n",
    "print(f\"Total number of titles : {len(dataset['data'])}\\n\")\n",
    "print(\"Titles :\\n\")\n",
    "for data in dataset['data']:\n",
    "    print(data['title'])"
   ]
  },
  {
   "cell_type": "markdown",
   "metadata": {},
   "source": [
    "### 3. All Contexts"
   ]
  },
  {
   "cell_type": "code",
   "execution_count": 58,
   "metadata": {},
   "outputs": [
    {
     "name": "stdout",
     "output_type": "stream",
     "text": [
      "Total number of paragraphs : 44\n",
      "\n"
     ]
    }
   ],
   "source": [
    "for data in dataset['data']:\n",
    "    len_paragraphs = len(data['paragraphs'])\n",
    "    # Uncomment the following to print all paragraphs\n",
    "    # for para in data['paragraphs']:\n",
    "    #     # print(para['context'])\n",
    "    #     # print(\"\\n\")\n",
    "\n",
    "print(f\"Total number of paragraphs : {len_paragraphs}\\n\")"
   ]
  },
  {
   "cell_type": "markdown",
   "metadata": {},
   "source": [
    "### 4. Sample of Dataset where Impossible Answer is set to True"
   ]
  },
  {
   "cell_type": "code",
   "execution_count": 12,
   "metadata": {},
   "outputs": [
    {
     "name": "stdout",
     "output_type": "stream",
     "text": [
      "The Normans (Norman: Nourmands; French: Normands; Latin: Normanni) were the people who in the 10th and 11th centuries gave their name to Normandy, a region in France. They were descended from Norse (\"Norman\" comes from \"Norseman\") raiders and pirates from Denmark, Iceland and Norway who, under their leader Rollo, agreed to swear fealty to King Charles III of West Francia. Through generations of assimilation and mixing with the native Frankish and Roman-Gaulish populations, their descendants would gradually merge with the Carolingian-based cultures of West Francia. The distinct cultural and ethnic identity of the Normans emerged initially in the first half of the 10th century, and it continued to evolve over the succeeding centuries.\n",
      "Data: Normans\n",
      "Question: Who gave their name to Normandy in the 1000's and 1100's\n",
      "Answer: []\n",
      "Is impossible: True\n"
     ]
    }
   ],
   "source": [
    "# print data, question and answer where impossible is true\n",
    "for data in dataset['data']:\n",
    "    for paragraph in data['paragraphs']:\n",
    "        for qa in paragraph['qas']:\n",
    "            if qa['is_impossible']:\n",
    "                print(paragraph['context'])\n",
    "                print(f\"Data: {data['title']}\")\n",
    "                print(f\"Question: {qa['question']}\")\n",
    "                print(f\"Answer: {qa['answers']}\")\n",
    "                print(f\"Is impossible: {qa['is_impossible']}\")\n",
    "                break\n",
    "        if qa['is_impossible']:\n",
    "            break\n",
    "    if qa['is_impossible']:\n",
    "        break"
   ]
  },
  {
   "cell_type": "markdown",
   "metadata": {},
   "source": [
    "### 5. Sample of Dataset where Impossible Answer is set to False"
   ]
  },
  {
   "cell_type": "code",
   "execution_count": 59,
   "metadata": {},
   "outputs": [
    {
     "name": "stdout",
     "output_type": "stream",
     "text": [
      "The Normans (Norman: Nourmands; French: Normands; Latin: Normanni) were the people who in the 10th and 11th centuries gave their name to Normandy, a region in France. They were descended from Norse (\"Norman\" comes from \"Norseman\") raiders and pirates from Denmark, Iceland and Norway who, under their leader Rollo, agreed to swear fealty to King Charles III of West Francia. Through generations of assimilation and mixing with the native Frankish and Roman-Gaulish populations, their descendants would gradually merge with the Carolingian-based cultures of West Francia. The distinct cultural and ethnic identity of the Normans emerged initially in the first half of the 10th century, and it continued to evolve over the succeeding centuries.\n",
      "Data: Normans\n",
      "Question: In what country is Normandy located?\n",
      "Answer: [{'text': 'France', 'answer_start': 159}, {'text': 'France', 'answer_start': 159}, {'text': 'France', 'answer_start': 159}, {'text': 'France', 'answer_start': 159}]\n",
      "Is impossible: False\n"
     ]
    }
   ],
   "source": [
    "count = 0\n",
    "# print data, question and answer where impossible is false\n",
    "for data in dataset['data']:\n",
    "    for paragraph in data['paragraphs']:\n",
    "        for qa in paragraph['qas']:\n",
    "            if not qa['is_impossible']:\n",
    "                print(paragraph['context'])\n",
    "                print(f\"Data: {data['title']}\")\n",
    "                print(f\"Question: {qa['question']}\")\n",
    "                print(f\"Answer: {qa['answers']}\")\n",
    "                print(f\"Is impossible: {qa['is_impossible']}\")\n",
    "                break\n",
    "        if not qa['is_impossible']:\n",
    "            break\n",
    "    if not qa['is_impossible']:\n",
    "        break"
   ]
  }
 ],
 "metadata": {
  "kernelspec": {
   "display_name": "LLM_Detect",
   "language": "python",
   "name": "python3"
  },
  "language_info": {
   "codemirror_mode": {
    "name": "ipython",
    "version": 3
   },
   "file_extension": ".py",
   "mimetype": "text/x-python",
   "name": "python",
   "nbconvert_exporter": "python",
   "pygments_lexer": "ipython3",
   "version": "3.13.1"
  }
 },
 "nbformat": 4,
 "nbformat_minor": 2
}

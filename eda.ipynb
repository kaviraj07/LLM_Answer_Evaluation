{
 "cells": [
  {
   "cell_type": "markdown",
   "metadata": {},
   "source": [
    "## Exploratory Data Analysis"
   ]
  },
  {
   "cell_type": "code",
   "execution_count": 5,
   "metadata": {},
   "outputs": [],
   "source": [
    "import json"
   ]
  },
  {
   "cell_type": "code",
   "execution_count": 6,
   "metadata": {},
   "outputs": [],
   "source": [
    "dataset_path = 'SQuAD/dev-v2.0.json'"
   ]
  },
  {
   "cell_type": "code",
   "execution_count": 7,
   "metadata": {},
   "outputs": [
    {
     "name": "stdout",
     "output_type": "stream",
     "text": [
      "dict_keys(['version', 'data'])\n",
      "Length of 'data' key :35\n",
      "dict_keys(['title', 'paragraphs'])\n",
      "Keys of 'paragraphs' key : dict_keys(['qas', 'context'])\n",
      "Keys of 'qas' key : dict_keys(['question', 'id', 'answers', 'is_impossible'])\n",
      "Keys of 'answers' key : dict_keys(['text', 'answer_start'])\n",
      "Keys of 'answers' key : In what country is Normandy located?\n",
      "Keys of 'answers' key : France\n",
      "Keys of 'answers' key : 159\n"
     ]
    }
   ],
   "source": [
    "with open(dataset_path, 'r') as file:\n",
    "    dataset = json.load(file)\n",
    "\n",
    "    print(dataset.keys())\n",
    "    print(f\"Length of 'data' key :{len(dataset['data'])}\")\n",
    "    print(dataset['data'][0].keys())\n",
    "    print(f\"Keys of 'paragraphs' key : {dataset['data'][0]['paragraphs'][0].keys()}\")\n",
    "    print(f\"Keys of 'qas' key : {dataset['data'][0]['paragraphs'][0]['qas'][0].keys()}\")\n",
    "    print(f\"Keys of 'answers' key : {dataset['data'][0]['paragraphs'][0]['qas'][0]['answers'][0].keys()}\")\n",
    "    print(f\"Keys of 'answers' key : {dataset['data'][0]['paragraphs'][0]['qas'][0]['question']}\")\n",
    "    print(f\"Keys of 'answers' key : {dataset['data'][0]['paragraphs'][0]['qas'][0]['answers'][0]['text']}\")\n",
    "    print(f\"Keys of 'answers' key : {dataset['data'][0]['paragraphs'][0]['qas'][0]['answers'][0]['answer_start']}\")"
   ]
  },
  {
   "cell_type": "code",
   "execution_count": 12,
   "metadata": {},
   "outputs": [
    {
     "name": "stdout",
     "output_type": "stream",
     "text": [
      "The Normans (Norman: Nourmands; French: Normands; Latin: Normanni) were the people who in the 10th and 11th centuries gave their name to Normandy, a region in France. They were descended from Norse (\"Norman\" comes from \"Norseman\") raiders and pirates from Denmark, Iceland and Norway who, under their leader Rollo, agreed to swear fealty to King Charles III of West Francia. Through generations of assimilation and mixing with the native Frankish and Roman-Gaulish populations, their descendants would gradually merge with the Carolingian-based cultures of West Francia. The distinct cultural and ethnic identity of the Normans emerged initially in the first half of the 10th century, and it continued to evolve over the succeeding centuries.\n",
      "Data: Normans\n",
      "Question: Who gave their name to Normandy in the 1000's and 1100's\n",
      "Answer: []\n",
      "Is impossible: True\n"
     ]
    }
   ],
   "source": [
    "# print data, question and answer where impossible is true\n",
    "for data in dataset['data']:\n",
    "    for paragraph in data['paragraphs']:\n",
    "        for qa in paragraph['qas']:\n",
    "            if qa['is_impossible']:\n",
    "                print(paragraph['context'])\n",
    "                print(f\"Data: {data['title']}\")\n",
    "                print(f\"Question: {qa['question']}\")\n",
    "                print(f\"Answer: {qa['answers']}\")\n",
    "                print(f\"Is impossible: {qa['is_impossible']}\")\n",
    "                break\n",
    "        if qa['is_impossible']:\n",
    "            break\n",
    "    if qa['is_impossible']:\n",
    "        break"
   ]
  }
 ],
 "metadata": {
  "kernelspec": {
   "display_name": "LLM_Detect",
   "language": "python",
   "name": "python3"
  },
  "language_info": {
   "codemirror_mode": {
    "name": "ipython",
    "version": 3
   },
   "file_extension": ".py",
   "mimetype": "text/x-python",
   "name": "python",
   "nbconvert_exporter": "python",
   "pygments_lexer": "ipython3",
   "version": "3.13.1"
  }
 },
 "nbformat": 4,
 "nbformat_minor": 2
}
